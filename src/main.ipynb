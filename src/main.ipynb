{
 "cells": [
  {
   "cell_type": "code",
   "execution_count": 9,
   "metadata": {},
   "outputs": [
    {
     "data": {
      "text/plain": [
       "compare (generic function with 1 method)"
      ]
     },
     "execution_count": 9,
     "metadata": {},
     "output_type": "execute_result"
    }
   ],
   "source": [
    "using DataFrames\n",
    "using CSV\n",
    "using DataFramesMeta\n",
    "using BioStructures\n",
    "using Bio3DView\n",
    "trueData = \"/home/hacquard/fullseqdesign_rosetta/pdb.full\"\n",
    "resData = \"/home/hacquard/fullseqdesign_rosetta/allpositions/rosetta\"\n",
    "header = [:atom, :id, :name, :radical, :chain, :radical_id, :x, :y, :z, :occupancy, :bfactor, :element]\n",
    "types = convert(Vector{Type},[String7, Int64, String3, String3, String1, Int64, Float64, Float64, Float64, Float64, Float64, String1])\n",
    "function loadpdb(file::String)::DataFrame\n",
    "    filter(:atom => ==(\"ATOM\"),dropmissing( CSV.read(file, DataFrame; delim=\" \", ignorerepeated=true, select=header, header=header, silencewarnings=true, types=types)[:, header]))\n",
    "end\n",
    "function sequence(protein::DataFrame)::DataFrame\n",
    "    unique(select(groupby(protein, :radical_id), :radical))\n",
    "end\n",
    "function compare(a::DataFrame,b::DataFrame)::DataFrame\n",
    "    comparaison = innerjoin(a,b;  on=:radical_id, makeunique=true)\n",
    "    @transform(\n",
    "    comparaison,\n",
    "    :correct = (:radical .== :radical_1)\n",
    ")\n",
    "end"
   ]
  },
  {
   "cell_type": "code",
   "execution_count": 146,
   "metadata": {},
   "outputs": [
    {
     "data": {
      "text/plain": [
       "true"
      ]
     },
     "execution_count": 146,
     "metadata": {},
     "output_type": "execute_result"
    }
   ],
   "source": [
    "comparaison[2,:radical] == comparaison[2,:radical_1]"
   ]
  },
  {
   "cell_type": "code",
   "execution_count": 9,
   "metadata": {},
   "outputs": [
    {
     "data": {
      "text/plain": [
       "22"
      ]
     },
     "execution_count": 9,
     "metadata": {},
     "output_type": "execute_result"
    }
   ],
   "source": [
    "comparaison = innerjoin((sequence ∘ loadpdb).([\"$trueData/1ABO.pdb\", \"$resData/1ABO.rosetta_0001.pdb\"])...; on=:radical_id, makeunique=true)\n",
    "comparaison = transform(\n",
    "    comparaison,\n",
    "    [:radical,:radical_1]=> \n",
    "    ((x,y) -> x.==y) => \n",
    "    :correct\n",
    ")\n",
    "count(comparaison.correct)"
   ]
  },
  {
   "cell_type": "code",
   "execution_count": 10,
   "metadata": {},
   "outputs": [
    {
     "data": {
      "text/html": [
       "<div><div style = \"float: left;\"><span>56×4 DataFrame</span></div><div style = \"float: right;\"><span style = \"font-style: italic;\">31 rows omitted</span></div><div style = \"clear: both;\"></div></div><div class = \"data-frame\" style = \"overflow-x: scroll;\"><table class = \"data-frame\" style = \"margin-bottom: 6px;\"><thead><tr class = \"header\"><th class = \"rowNumber\" style = \"font-weight: bold; text-align: right;\">Row</th><th style = \"text-align: left;\">radical_id</th><th style = \"text-align: left;\">radical</th><th style = \"text-align: left;\">radical_1</th><th style = \"text-align: left;\">correct</th></tr><tr class = \"subheader headerLastRow\"><th class = \"rowNumber\" style = \"font-weight: bold; text-align: right;\"></th><th title = \"Int64\" style = \"text-align: left;\">Int64</th><th title = \"String3\" style = \"text-align: left;\">String3</th><th title = \"String3\" style = \"text-align: left;\">String3</th><th title = \"Bool\" style = \"text-align: left;\">Bool</th></tr></thead><tbody><tr><td class = \"rowNumber\" style = \"font-weight: bold; text-align: right;\">1</td><td style = \"text-align: right;\">64</td><td style = \"text-align: left;\">ASN</td><td style = \"text-align: left;\">PRO</td><td style = \"text-align: right;\">false</td></tr><tr><td class = \"rowNumber\" style = \"font-weight: bold; text-align: right;\">2</td><td style = \"text-align: right;\">65</td><td style = \"text-align: left;\">LEU</td><td style = \"text-align: left;\">LEU</td><td style = \"text-align: right;\">true</td></tr><tr><td class = \"rowNumber\" style = \"font-weight: bold; text-align: right;\">3</td><td style = \"text-align: right;\">66</td><td style = \"text-align: left;\">PHE</td><td style = \"text-align: left;\">TYR</td><td style = \"text-align: right;\">false</td></tr><tr><td class = \"rowNumber\" style = \"font-weight: bold; text-align: right;\">4</td><td style = \"text-align: right;\">67</td><td style = \"text-align: left;\">VAL</td><td style = \"text-align: left;\">VAL</td><td style = \"text-align: right;\">true</td></tr><tr><td class = \"rowNumber\" style = \"font-weight: bold; text-align: right;\">5</td><td style = \"text-align: right;\">68</td><td style = \"text-align: left;\">ALA</td><td style = \"text-align: left;\">ALA</td><td style = \"text-align: right;\">true</td></tr><tr><td class = \"rowNumber\" style = \"font-weight: bold; text-align: right;\">6</td><td style = \"text-align: right;\">69</td><td style = \"text-align: left;\">LEU</td><td style = \"text-align: left;\">LEU</td><td style = \"text-align: right;\">true</td></tr><tr><td class = \"rowNumber\" style = \"font-weight: bold; text-align: right;\">7</td><td style = \"text-align: right;\">70</td><td style = \"text-align: left;\">TYR</td><td style = \"text-align: left;\">THR</td><td style = \"text-align: right;\">false</td></tr><tr><td class = \"rowNumber\" style = \"font-weight: bold; text-align: right;\">8</td><td style = \"text-align: right;\">71</td><td style = \"text-align: left;\">ASP</td><td style = \"text-align: left;\">ASP</td><td style = \"text-align: right;\">true</td></tr><tr><td class = \"rowNumber\" style = \"font-weight: bold; text-align: right;\">9</td><td style = \"text-align: right;\">72</td><td style = \"text-align: left;\">PHE</td><td style = \"text-align: left;\">LEU</td><td style = \"text-align: right;\">false</td></tr><tr><td class = \"rowNumber\" style = \"font-weight: bold; text-align: right;\">10</td><td style = \"text-align: right;\">73</td><td style = \"text-align: left;\">VAL</td><td style = \"text-align: left;\">VAL</td><td style = \"text-align: right;\">true</td></tr><tr><td class = \"rowNumber\" style = \"font-weight: bold; text-align: right;\">11</td><td style = \"text-align: right;\">74</td><td style = \"text-align: left;\">ALA</td><td style = \"text-align: left;\">ALA</td><td style = \"text-align: right;\">true</td></tr><tr><td class = \"rowNumber\" style = \"font-weight: bold; text-align: right;\">12</td><td style = \"text-align: right;\">75</td><td style = \"text-align: left;\">SER</td><td style = \"text-align: left;\">ASN</td><td style = \"text-align: right;\">false</td></tr><tr><td class = \"rowNumber\" style = \"font-weight: bold; text-align: right;\">13</td><td style = \"text-align: right;\">76</td><td style = \"text-align: left;\">GLY</td><td style = \"text-align: left;\">GLY</td><td style = \"text-align: right;\">true</td></tr><tr><td style = \"text-align: right;\">&vellip;</td><td style = \"text-align: right;\">&vellip;</td><td style = \"text-align: right;\">&vellip;</td><td style = \"text-align: right;\">&vellip;</td><td style = \"text-align: right;\">&vellip;</td></tr><tr><td class = \"rowNumber\" style = \"font-weight: bold; text-align: right;\">45</td><td style = \"text-align: right;\">108</td><td style = \"text-align: left;\">GLN</td><td style = \"text-align: left;\">THR</td><td style = \"text-align: right;\">false</td></tr><tr><td class = \"rowNumber\" style = \"font-weight: bold; text-align: right;\">46</td><td style = \"text-align: right;\">109</td><td style = \"text-align: left;\">GLY</td><td style = \"text-align: left;\">GLY</td><td style = \"text-align: right;\">true</td></tr><tr><td class = \"rowNumber\" style = \"font-weight: bold; text-align: right;\">47</td><td style = \"text-align: right;\">110</td><td style = \"text-align: left;\">TRP</td><td style = \"text-align: left;\">TYR</td><td style = \"text-align: right;\">false</td></tr><tr><td class = \"rowNumber\" style = \"font-weight: bold; text-align: right;\">48</td><td style = \"text-align: right;\">111</td><td style = \"text-align: left;\">VAL</td><td style = \"text-align: left;\">VAL</td><td style = \"text-align: right;\">true</td></tr><tr><td class = \"rowNumber\" style = \"font-weight: bold; text-align: right;\">49</td><td style = \"text-align: right;\">112</td><td style = \"text-align: left;\">PRO</td><td style = \"text-align: left;\">LEU</td><td style = \"text-align: right;\">false</td></tr><tr><td class = \"rowNumber\" style = \"font-weight: bold; text-align: right;\">50</td><td style = \"text-align: right;\">113</td><td style = \"text-align: left;\">SER</td><td style = \"text-align: left;\">SER</td><td style = \"text-align: right;\">true</td></tr><tr><td class = \"rowNumber\" style = \"font-weight: bold; text-align: right;\">51</td><td style = \"text-align: right;\">114</td><td style = \"text-align: left;\">ASN</td><td style = \"text-align: left;\">SER</td><td style = \"text-align: right;\">false</td></tr><tr><td class = \"rowNumber\" style = \"font-weight: bold; text-align: right;\">52</td><td style = \"text-align: right;\">115</td><td style = \"text-align: left;\">TYR</td><td style = \"text-align: left;\">THR</td><td style = \"text-align: right;\">false</td></tr><tr><td class = \"rowNumber\" style = \"font-weight: bold; text-align: right;\">53</td><td style = \"text-align: right;\">116</td><td style = \"text-align: left;\">ILE</td><td style = \"text-align: left;\">ILE</td><td style = \"text-align: right;\">true</td></tr><tr><td class = \"rowNumber\" style = \"font-weight: bold; text-align: right;\">54</td><td style = \"text-align: right;\">117</td><td style = \"text-align: left;\">THR</td><td style = \"text-align: left;\">LYS</td><td style = \"text-align: right;\">false</td></tr><tr><td class = \"rowNumber\" style = \"font-weight: bold; text-align: right;\">55</td><td style = \"text-align: right;\">118</td><td style = \"text-align: left;\">PRO</td><td style = \"text-align: left;\">TYR</td><td style = \"text-align: right;\">false</td></tr><tr><td class = \"rowNumber\" style = \"font-weight: bold; text-align: right;\">56</td><td style = \"text-align: right;\">119</td><td style = \"text-align: left;\">VAL</td><td style = \"text-align: left;\">VAL</td><td style = \"text-align: right;\">true</td></tr></tbody></table></div>"
      ],
      "text/latex": [
       "\\begin{tabular}{r|cccc}\n",
       "\t& radical\\_id & radical & radical\\_1 & correct\\\\\n",
       "\t\\hline\n",
       "\t& Int64 & String3 & String3 & Bool\\\\\n",
       "\t\\hline\n",
       "\t1 & 64 & ASN & PRO & 0 \\\\\n",
       "\t2 & 65 & LEU & LEU & 1 \\\\\n",
       "\t3 & 66 & PHE & TYR & 0 \\\\\n",
       "\t4 & 67 & VAL & VAL & 1 \\\\\n",
       "\t5 & 68 & ALA & ALA & 1 \\\\\n",
       "\t6 & 69 & LEU & LEU & 1 \\\\\n",
       "\t7 & 70 & TYR & THR & 0 \\\\\n",
       "\t8 & 71 & ASP & ASP & 1 \\\\\n",
       "\t9 & 72 & PHE & LEU & 0 \\\\\n",
       "\t10 & 73 & VAL & VAL & 1 \\\\\n",
       "\t11 & 74 & ALA & ALA & 1 \\\\\n",
       "\t12 & 75 & SER & ASN & 0 \\\\\n",
       "\t13 & 76 & GLY & GLY & 1 \\\\\n",
       "\t14 & 77 & ASP & ASN & 0 \\\\\n",
       "\t15 & 78 & ASN & ASN & 1 \\\\\n",
       "\t16 & 79 & THR & LYS & 0 \\\\\n",
       "\t17 & 80 & LEU & LEU & 1 \\\\\n",
       "\t18 & 81 & SER & THR & 0 \\\\\n",
       "\t19 & 82 & ILE & ILE & 1 \\\\\n",
       "\t20 & 83 & THR & TYR & 0 \\\\\n",
       "\t21 & 84 & LYS & LYS & 1 \\\\\n",
       "\t22 & 85 & GLY & GLY & 1 \\\\\n",
       "\t23 & 86 & GLU & GLN & 0 \\\\\n",
       "\t24 & 87 & LYS & LEU & 0 \\\\\n",
       "\t25 & 88 & LEU & MET & 0 \\\\\n",
       "\t26 & 89 & ARG & TRP & 0 \\\\\n",
       "\t27 & 90 & VAL & GLN & 0 \\\\\n",
       "\t28 & 91 & LEU & LEU & 1 \\\\\n",
       "\t29 & 92 & GLY & GLY & 1 \\\\\n",
       "\t30 & 93 & TYR & THR & 0 \\\\\n",
       "\t$\\dots$ & $\\dots$ & $\\dots$ & $\\dots$ & $\\dots$ \\\\\n",
       "\\end{tabular}\n"
      ],
      "text/plain": [
       "\u001b[1m56×4 DataFrame\u001b[0m\n",
       "\u001b[1m Row \u001b[0m│\u001b[1m radical_id \u001b[0m\u001b[1m radical \u001b[0m\u001b[1m radical_1 \u001b[0m\u001b[1m correct \u001b[0m\n",
       "     │\u001b[90m Int64      \u001b[0m\u001b[90m String3 \u001b[0m\u001b[90m String3   \u001b[0m\u001b[90m Bool    \u001b[0m\n",
       "─────┼─────────────────────────────────────────\n",
       "   1 │         64  ASN      PRO          false\n",
       "   2 │         65  LEU      LEU           true\n",
       "   3 │         66  PHE      TYR          false\n",
       "   4 │         67  VAL      VAL           true\n",
       "   5 │         68  ALA      ALA           true\n",
       "   6 │         69  LEU      LEU           true\n",
       "   7 │         70  TYR      THR          false\n",
       "   8 │         71  ASP      ASP           true\n",
       "   9 │         72  PHE      LEU          false\n",
       "  10 │         73  VAL      VAL           true\n",
       "  11 │         74  ALA      ALA           true\n",
       "  ⋮  │     ⋮          ⋮         ⋮         ⋮\n",
       "  47 │        110  TRP      TYR          false\n",
       "  48 │        111  VAL      VAL           true\n",
       "  49 │        112  PRO      LEU          false\n",
       "  50 │        113  SER      SER           true\n",
       "  51 │        114  ASN      SER          false\n",
       "  52 │        115  TYR      THR          false\n",
       "  53 │        116  ILE      ILE           true\n",
       "  54 │        117  THR      LYS          false\n",
       "  55 │        118  PRO      TYR          false\n",
       "  56 │        119  VAL      VAL           true\n",
       "\u001b[36m                                35 rows omitted\u001b[0m"
      ]
     },
     "execution_count": 10,
     "metadata": {},
     "output_type": "execute_result"
    }
   ],
   "source": [
    "comparaison"
   ]
  },
  {
   "cell_type": "markdown",
   "metadata": {},
   "source": [
    "talaris2013|14 et score12"
   ]
  }
 ],
 "metadata": {
  "kernelspec": {
   "display_name": "Julia 1.9.3",
   "language": "julia",
   "name": "julia-1.9"
  },
  "language_info": {
   "file_extension": ".jl",
   "mimetype": "application/julia",
   "name": "julia",
   "version": "1.9.3"
  }
 },
 "nbformat": 4,
 "nbformat_minor": 2
}
